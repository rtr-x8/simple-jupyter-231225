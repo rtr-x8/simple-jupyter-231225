{
 "cells": [
  {
   "cell_type": "markdown",
   "id": "19f72723-ae1a-4c37-884b-3ba41defff4d",
   "metadata": {},
   "source": [
    "whisperはopenaiによって開発された文字起こしAI（speach to text）  \n",
    "https://huggingface.co/openai/whisper-small  \n",
    "\n",
    "モデルは学習済のものの内、もっとも容量が軽いものを利用する。\n",
    "\n",
    "huggingfaceには多くの学習済モデルがアップされており、利用規約の範囲内なら手軽に利用することができる。"
   ]
  },
  {
   "cell_type": "code",
   "execution_count": 3,
   "id": "36aaf109-be31-4e07-a9e1-8b6644363fcf",
   "metadata": {
    "scrolled": true
   },
   "outputs": [],
   "source": [
    "# google colabで実行しているときは以下のコメントを外して実行してください。\n",
    "\n",
    "#!pip install -U openai-whisper setuptools-rust"
   ]
  },
  {
   "cell_type": "code",
   "execution_count": 1,
   "id": "3a2373f8-68f2-47a3-8bf6-ba0f90f2e1ea",
   "metadata": {},
   "outputs": [],
   "source": [
    "# 音声ファイルをダウンロード\n",
    "\n",
    "import requests\n",
    "\n",
    "url='https://pro-video.jp/voice/announce/mp3/001-sibutomo.mp3'\n",
    "filename='001-sibutomo.mp3'\n",
    "\n",
    "urlData = requests.get(url).content\n",
    "\n",
    "with open(filename ,mode='wb') as f: # wb でバイト型を書き込める\n",
    "  f.write(urlData)"
   ]
  },
  {
   "cell_type": "code",
   "execution_count": 2,
   "id": "d1cbadb0-52a5-4d08-a2a0-22316d733bd8",
   "metadata": {},
   "outputs": [
    {
     "name": "stderr",
     "output_type": "stream",
     "text": [
      "100%|███████████████████████████████████████| 139M/139M [00:12<00:00, 12.1MiB/s]\n",
      "/usr/local/lib/python3.10/site-packages/whisper/transcribe.py:115: UserWarning: FP16 is not supported on CPU; using FP32 instead\n",
      "  warnings.warn(\"FP16 is not supported on CPU; using FP32 instead\")\n"
     ]
    },
    {
     "name": "stdout",
     "output_type": "stream",
     "text": [
      "無天下のしゃぼん玉石圏なら もう安心天然の保湿成分が含まれるため 肌にうるおよあたえすこやかにたもちますお肌のことでお悩みの方は ぜひ一度無天下しゃぼん玉石圏をお試しくださいおもとめは01,20,00,5,5,9,5まで\n"
     ]
    }
   ],
   "source": [
    "import whisper\n",
    "\n",
    "model = whisper.load_model(\"base\")\n",
    "result = model.transcribe(\"001-sibutomo.mp3\")\n",
    "whisper_result = result[\"text\"]\n",
    "print(whisper_result)"
   ]
  },
  {
   "cell_type": "markdown",
   "id": "38363cbe-34f6-4751-ba09-dfdb9449bbb9",
   "metadata": {},
   "source": [
    "## 結果\n",
    "100%正確ではないが、大筋は聞き取れている。  \n",
    "\n",
    "原因としては日本の無添加等のドメイン知識を持っていないこと、あるいはモデルが小さいため精度を上げることが難しい、などが挙げられる。"
   ]
  },
  {
   "cell_type": "markdown",
   "id": "3fd4e092-3304-482e-8e1f-bddab54f8c3d",
   "metadata": {},
   "source": []
  },
  {
   "cell_type": "code",
   "execution_count": null,
   "id": "7af143fc-70dd-4ad7-8406-04e9031e0bdd",
   "metadata": {},
   "outputs": [],
   "source": []
  },
  {
   "cell_type": "code",
   "execution_count": null,
   "id": "21d20b98-0a47-4963-88f6-bcd9612d26f5",
   "metadata": {},
   "outputs": [],
   "source": []
  },
  {
   "cell_type": "code",
   "execution_count": null,
   "id": "272b16f6-fe41-4aab-bafb-f875c75f8e6f",
   "metadata": {},
   "outputs": [],
   "source": []
  },
  {
   "cell_type": "code",
   "execution_count": null,
   "id": "5b7f609a-5925-43ad-a07d-3ef686b8c14f",
   "metadata": {},
   "outputs": [],
   "source": []
  },
  {
   "cell_type": "code",
   "execution_count": null,
   "id": "bb6f2741-c5ca-4b93-9c64-0bf6f0bd073d",
   "metadata": {},
   "outputs": [],
   "source": []
  },
  {
   "cell_type": "code",
   "execution_count": null,
   "id": "0ec1c926-2647-49eb-a552-d574bda1da50",
   "metadata": {},
   "outputs": [],
   "source": []
  },
  {
   "cell_type": "code",
   "execution_count": null,
   "id": "b31d7052-e061-456e-9cd8-198647476e4e",
   "metadata": {},
   "outputs": [],
   "source": []
  },
  {
   "cell_type": "code",
   "execution_count": 4,
   "id": "2d0dabd6-a3d9-4bd7-98cf-022a25f97ace",
   "metadata": {},
   "outputs": [
    {
     "data": {
      "text/plain": [
       "'\\n## LLMも試してみよう\\n\\n日本産LLM: https://github.com/llm-jp/awesome-japanese-llm?tab=readme-ov-file\\n\\n\\nimport torch\\nfrom transformers import AutoTokenizer, AutoModel\\ntokenizer = AutoTokenizer.from_pretrained(\"line-corporation/line-distilbert-base-japanese\", trust_remote_code=True)\\nmodel = AutoModel.from_pretrained(\"line-corporation/line-distilbert-base-japanese\")\\n\\nsentence = \"無添加のしゃぼん玉[MASK]なら安心天然の保湿成分が含まれる\"\\n\\ntokenized_text = tokenizer.tokenize(sentence)\\nmasked_index = tokenized_text.index(\"[MASK]\")\\nindexed_tokens = tokenizer.convert_tokens_to_ids(tokenized_text)\\ntokens_tensor = torch.tensor([indexed_tokens])\\n\\nmodel.eval()\\n\\nwith torch.no_grad():\\n    outputs = model(tokens_tensor)\\n    predictions = outputs[0][0, masked_index].topk(5) # 予測結果の上位5件を抽出\\n\\nfor i, index_t in enumerate(predictions.indices):\\n    index = index_t.item()\\n    token = tokenizer.convert_ids_to_tokens([index])[0]\\n    print(i, token)\\n'"
      ]
     },
     "execution_count": 4,
     "metadata": {},
     "output_type": "execute_result"
    }
   ],
   "source": [
    "\n",
    "\n",
    "\"\"\"\n",
    "## LLMも試してみよう\n",
    "\n",
    "日本産LLM: https://github.com/llm-jp/awesome-japanese-llm?tab=readme-ov-file\n",
    "\n",
    "\n",
    "import torch\n",
    "from transformers import AutoTokenizer, AutoModel\n",
    "tokenizer = AutoTokenizer.from_pretrained(\"line-corporation/line-distilbert-base-japanese\", trust_remote_code=True)\n",
    "model = AutoModel.from_pretrained(\"line-corporation/line-distilbert-base-japanese\")\n",
    "\n",
    "sentence = \"無添加のしゃぼん玉[MASK]なら安心天然の保湿成分が含まれる\"\n",
    "\n",
    "tokenized_text = tokenizer.tokenize(sentence)\n",
    "masked_index = tokenized_text.index(\"[MASK]\")\n",
    "indexed_tokens = tokenizer.convert_tokens_to_ids(tokenized_text)\n",
    "tokens_tensor = torch.tensor([indexed_tokens])\n",
    "\n",
    "model.eval()\n",
    "\n",
    "with torch.no_grad():\n",
    "    outputs = model(tokens_tensor)\n",
    "    predictions = outputs[0][0, masked_index].topk(5) # 予測結果の上位5件を抽出\n",
    "\n",
    "for i, index_t in enumerate(predictions.indices):\n",
    "    index = index_t.item()\n",
    "    token = tokenizer.convert_ids_to_tokens([index])[0]\n",
    "    print(i, token)\n",
    "\"\"\""
   ]
  },
  {
   "cell_type": "code",
   "execution_count": null,
   "id": "548f758c-d702-444b-8e6e-fee55267f6e7",
   "metadata": {},
   "outputs": [],
   "source": []
  }
 ],
 "metadata": {
  "kernelspec": {
   "display_name": "Python 3 (ipykernel)",
   "language": "python",
   "name": "python3"
  },
  "language_info": {
   "codemirror_mode": {
    "name": "ipython",
    "version": 3
   },
   "file_extension": ".py",
   "mimetype": "text/x-python",
   "name": "python",
   "nbconvert_exporter": "python",
   "pygments_lexer": "ipython3",
   "version": "3.10.12"
  }
 },
 "nbformat": 4,
 "nbformat_minor": 5
}
